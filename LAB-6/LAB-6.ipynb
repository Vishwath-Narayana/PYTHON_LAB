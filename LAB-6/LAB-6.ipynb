{
 "cells": [
  {
   "cell_type": "code",
   "execution_count": 1,
   "id": "893d6000-79c9-4984-858d-b6a209eee933",
   "metadata": {},
   "outputs": [
    {
     "name": "stdout",
     "output_type": "stream",
     "text": [
      "Rahul\n",
      "8886012\n",
      "My name is Rahul\n",
      "IdNumber: 8886012\n",
      "Post: Intern\n",
      "Salary: 20000\n"
     ]
    }
   ],
   "source": [
    "#SP-1\n",
    "\n",
    "class Person(object):\n",
    "  def __init__(self, name, idnumber):\n",
    "    self.name = name\n",
    "    self.idnumber = idnumber\n",
    "  def display(self):\n",
    "    print(self.name)\n",
    "    print(self.idnumber)\n",
    "  def details(self):\n",
    "    print(\"My name is {}\".format(self.name))\n",
    "    print(\"IdNumber: {}\".format(self.idnumber))\n",
    "\n",
    "class Employee(Person):\n",
    "  def __init__(self, name, idnumber, salary, post):\n",
    "    self.salary = salary\n",
    "    self.post = post\n",
    "    Person.__init__(self, name, idnumber)\n",
    "  def details(self):\n",
    "    print(\"My name is {}\".format(self.name))\n",
    "    print(\"IdNumber: {}\".format(self.idnumber))\n",
    "    print(\"Post: {}\".format(self.post))\n",
    "    print(\"Salary: {}\".format(self.salary))\n",
    "      \n",
    "a = Employee('Rahul', 8886012, 20000, \"Intern\")\n",
    "a.display()\n",
    "a.details()"
   ]
  },
  {
   "cell_type": "code",
   "execution_count": 2,
   "id": "f0455b64-0eb6-476e-97d5-d582746b7859",
   "metadata": {},
   "outputs": [
    {
     "name": "stdout",
     "output_type": "stream",
     "text": [
      "Car Details:\n",
      "Make:  Toyota\n",
      "Model:  Corolla\n",
      "Year:  2022\n",
      "Speed Limit:  120 km/h\n",
      "Accelerating by 20 km/h\n",
      "Current Speed:  20 km/h\n",
      "Decelerating by 20 km/h\n",
      "Current Speed:  0 km/h\n"
     ]
    }
   ],
   "source": [
    "#SP-2\n",
    "\n",
    "class Car:\n",
    "  total_cars = 0\n",
    "  speed_limit = 120\n",
    "  def __init__(self, make, model, year):\n",
    "    self.make = make\n",
    "    self.model = model\n",
    "    self.year = year\n",
    "    self.speed = 0\n",
    "    Car.total_cars += 1\n",
    "  def display_details(self):\n",
    "    print(\"Car Details:\")\n",
    "    print(\"Make: \", self.make)\n",
    "    print(\"Model: \", self.model)\n",
    "    print(\"Year: \", self.year)\n",
    "    print(\"Speed Limit: \", Car.speed_limit, \"km/h\")\n",
    "  def accelerate(self,acceleration):\n",
    "    print(\"Accelerating by\", acceleration, \"km/h\")\n",
    "    self.speed += acceleration\n",
    "    print(\"Current Speed: \",self.speed, \"km/h\")\n",
    "  def decelerate(self, deceleration):\n",
    "    print(\"Decelerating by\", deceleration, \"km/h\")\n",
    "    self.speed -= deceleration\n",
    "    print(\"Current Speed: \",self.speed, \"km/h\")\n",
    "\n",
    "car1 = Car(\"Toyota\", \"Corolla\", 2022)\n",
    "car1.display_details()\n",
    "car1.accelerate(20)\n",
    "car1.decelerate(20)"
   ]
  },
  {
   "cell_type": "code",
   "execution_count": 3,
   "id": "88f55c72-eb60-4113-8c27-1a80a3d72dcf",
   "metadata": {},
   "outputs": [
    {
     "name": "stdout",
     "output_type": "stream",
     "text": [
      "Marks for Alice: [85, 90, 78]\n",
      "Average marks: 84.33\n"
     ]
    }
   ],
   "source": [
    "#EP-1\n",
    "\n",
    "class Student:\n",
    "  def __init__(self, name, marks):\n",
    "    self.name = name      \n",
    "    self.marks = marks    \n",
    "  def display_marks(self):\n",
    "    print(f\"Marks for {self.name}: {self.marks}\")\n",
    "  def calculate_average(self):\n",
    "    return sum(self.marks) / len(self.marks)\n",
    "\n",
    "student1 = Student(\"Alice\", [85, 90, 78])\n",
    "student1.display_marks()\n",
    "print(f\"Average marks: {student1.calculate_average():.2f}\")"
   ]
  },
  {
   "cell_type": "code",
   "execution_count": 4,
   "id": "8608dd7a-909f-4dcd-9c8a-e2235d4c1214",
   "metadata": {},
   "outputs": [
    {
     "name": "stdout",
     "output_type": "stream",
     "text": [
      "Name: John, Salary: 50000\n",
      "Name: Jane, Salary: 60000\n",
      "Total number of employees: 2\n"
     ]
    }
   ],
   "source": [
    "#EP-2\n",
    "\n",
    "class Employee:\n",
    "  employee_count = 0\n",
    "  def __init__(self, name, salary):\n",
    "    self.name = name\n",
    "    self.salary = salary\n",
    "    Employee.employee_count += 1\n",
    "  def display_employee(self):\n",
    "    print(f\"Name: {self.name}, Salary: {self.salary}\")\n",
    "  @classmethod\n",
    "  def display_employee_count(cls):\n",
    "    print(f\"Total number of employees: {cls.employee_count}\")\n",
    "      \n",
    "emp1 = Employee(\"John\", 50000)\n",
    "emp2 = Employee(\"Jane\", 60000)\n",
    "emp1.display_employee()\n",
    "emp2.display_employee()\n",
    "Employee.display_employee_count()"
   ]
  },
  {
   "cell_type": "code",
   "execution_count": 7,
   "id": "155ff052-95d2-41c0-a8fb-db2b7b825402",
   "metadata": {},
   "outputs": [
    {
     "name": "stdout",
     "output_type": "stream",
     "text": [
      "Name: John, Salary: 50000\n",
      "Name: John, Salary: 60000\n"
     ]
    }
   ],
   "source": [
    "#EP-3\n",
    "\n",
    "class Employee:\n",
    "  def __init__(self, name, salary):\n",
    "    self.name = name\n",
    "    self.salary = salary\n",
    "      \n",
    "  def display(self):\n",
    "    print(f\"Name: {self.name}, Salary: {self.salary}\")\n",
    "\n",
    "\n",
    "emp = Employee(\"John\", 50000)\n",
    "emp.display()\n",
    "emp.salary = 60000\n",
    "emp.display()"
   ]
  },
  {
   "cell_type": "code",
   "execution_count": 8,
   "id": "f5422274-dcf7-4968-a4ed-c782d593c936",
   "metadata": {},
   "outputs": [
    {
     "name": "stdout",
     "output_type": "stream",
     "text": [
      "Alice's marks: [85, 90, 78]\n",
      "Alice's marks: [85, 90, 78, 95]\n"
     ]
    }
   ],
   "source": [
    "#EP-4\n",
    "\n",
    "class Student:\n",
    "  def __init__(self, name, marks):\n",
    "    self.name = name\n",
    "    self.marks = marks\n",
    "\n",
    "  def add_mark(self, mark):\n",
    "    self.marks.append(mark)\n",
    "\n",
    "  def display(self):\n",
    "    print(f\"{self.name}'s marks: {self.marks}\")\n",
    "\n",
    "\n",
    "student = Student(\"Alice\", [85, 90, 78])\n",
    "student.display()\n",
    "student.add_mark(95) \n",
    "student.display()"
   ]
  },
  {
   "cell_type": "code",
   "execution_count": 9,
   "id": "a5c8a906-a656-47bf-8cc3-87f4b902f4d9",
   "metadata": {},
   "outputs": [
    {
     "name": "stdout",
     "output_type": "stream",
     "text": [
      "Point(2, 3)\n",
      "Point(6, 8)\n",
      "False\n",
      "True\n"
     ]
    }
   ],
   "source": [
    "#EP-5\n",
    "\n",
    "class Point:\n",
    "  def __init__(self, x, y):\n",
    "    self.x = x\n",
    "    self.y = y\n",
    "\n",
    "  def __str__(self):\n",
    "    return f\"Point({self.x}, {self.y})\"\n",
    "\n",
    "  def __add__(self, other):\n",
    "    if isinstance(other, Point):\n",
    "      return Point(self.x + other.x, self.y + other.y)\n",
    "    return NotImplemented\n",
    "\n",
    "  def __eq__(self, other):\n",
    "    if isinstance(other, Point):\n",
    "      return self.x == other.x and self.y == other.y\n",
    "    return NotImplemented\n",
    "\n",
    "\n",
    "p1 = Point(2, 3)\n",
    "p2 = Point(4, 5)\n",
    "print(p1)      \n",
    "\n",
    "p3 = p1 + p2    \n",
    "print(p3)\n",
    "\n",
    "print(p1 == p2)  \n",
    "print(p1 == Point(2, 3))\n",
    "\n"
   ]
  },
  {
   "cell_type": "code",
   "execution_count": 10,
   "id": "3621505c-54a7-409a-84a2-bebc12f901f5",
   "metadata": {},
   "outputs": [
    {
     "name": "stdout",
     "output_type": "stream",
     "text": [
      "[85, 90, 78]\n",
      "90\n",
      "[85, 95, 78]\n"
     ]
    }
   ],
   "source": [
    "#EP-6\n",
    "\n",
    "class Marks:\n",
    "  def __init__(self, marks):\n",
    "    self.marks = marks\n",
    "  def __getitem__(self, index):\n",
    "    return self.marks[index]\n",
    "  def __setitem__(self, index, value):\n",
    "    self.marks[index] = value\n",
    "  def display(self):\n",
    "    print(self.marks)\n",
    "\n",
    "student_marks = Marks([85, 90, 78])\n",
    "student_marks.display()\n",
    "print(student_marks[1]) \n",
    "student_marks[1] = 95   \n",
    "student_marks.display()"
   ]
  },
  {
   "cell_type": "code",
   "execution_count": 11,
   "id": "13178d71-8b3c-460b-b3ec-69086824a357",
   "metadata": {},
   "outputs": [
    {
     "name": "stdout",
     "output_type": "stream",
     "text": [
      "Name: John\n",
      "Salary: 50000\n",
      "John\n",
      "50000\n",
      "Name: John\n",
      "Salary: 60000\n",
      "60000\n"
     ]
    }
   ],
   "source": [
    "#EP-7\n",
    "\n",
    "class Employee:\n",
    "  def __init__(self, name, salary):\n",
    "    self.name = name\n",
    "    self.__salary = salary\n",
    "\n",
    "  def display(self):\n",
    "    print(f\"Name: {self.name}\")\n",
    "    print(f\"Salary: {self.__salary}\")\n",
    "\n",
    "  def set_salary(self, salary):\n",
    "    self.__salary = salary\n",
    "\n",
    "  def get_salary(self):\n",
    "    return self.__salary\n",
    "\n",
    "emp = Employee(\"John\", 50000)\n",
    "emp.display()\n",
    "print(emp.name)\n",
    "print(emp.get_salary())\n",
    "emp.set_salary(60000)\n",
    "emp.display()\n",
    "print(emp._Employee__salary)\n",
    "\n"
   ]
  },
  {
   "cell_type": "code",
   "execution_count": null,
   "id": "d2d94e4b-f2d7-4a54-91ed-a7fea9e30f2e",
   "metadata": {},
   "outputs": [],
   "source": []
  }
 ],
 "metadata": {
  "kernelspec": {
   "display_name": "Python [conda env:base] *",
   "language": "python",
   "name": "conda-base-py"
  },
  "language_info": {
   "codemirror_mode": {
    "name": "ipython",
    "version": 3
   },
   "file_extension": ".py",
   "mimetype": "text/x-python",
   "name": "python",
   "nbconvert_exporter": "python",
   "pygments_lexer": "ipython3",
   "version": "3.13.5"
  }
 },
 "nbformat": 4,
 "nbformat_minor": 5
}
