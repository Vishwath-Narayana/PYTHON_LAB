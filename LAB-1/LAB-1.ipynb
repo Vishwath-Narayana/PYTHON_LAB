{
 "cells": [
  {
   "cell_type": "code",
   "execution_count": 7,
   "id": "f6745f8f-81c6-4b21-871a-caaa99c48fa3",
   "metadata": {},
   "outputs": [
    {
     "name": "stdin",
     "output_type": "stream",
     "text": [
      "Enter the first number: 12\n",
      "Enter the second number:  13\n"
     ]
    },
    {
     "name": "stdout",
     "output_type": "stream",
     "text": [
      "Addditon: 25.0\n",
      "Subtrsction: -1.0\n",
      "Multiplication: 156.0\n",
      "Division: 0.9230769230769231\n",
      "Modulo: 12.0\n",
      "Exponentiation: 106993205379072.0\n"
     ]
    }
   ],
   "source": [
    "#SP-1 Arithmetic Operators\n",
    "num1 = float(input(\"Enter the first number:\"))\n",
    "num2 = float(input(\"Enter the second number: \"))\n",
    "\n",
    "add = num1 + num2    #addition\n",
    "print(\"Addditon:\",add)\n",
    "\n",
    "sub = num1 - num2    #Subtraction\n",
    "print(\"Subtrsction:\",sub)\n",
    "\n",
    "mul = num1 * num2    #Multiplication\n",
    "print(\"Multiplication:\",mul)\n",
    "\n",
    "div = num1 / num2    #Division\n",
    "print(\"Division:\",div)\n",
    "\n",
    "mod = num1 % num2    #Modulo\n",
    "print(\"Modulo:\",mod)\n",
    "\n",
    "expo = num1 ** num2  #Exponentiation\n",
    "print(\"Exponentiation:\",expo)\n"
   ]
  },
  {
   "cell_type": "code",
   "execution_count": 6,
   "id": "aaaa0792-8b75-4a70-addd-d308f4a5827a",
   "metadata": {},
   "outputs": [
    {
     "name": "stdin",
     "output_type": "stream",
     "text": [
      "Enter first value:  15\n",
      "Enter second value:  23\n"
     ]
    },
    {
     "name": "stdout",
     "output_type": "stream",
     "text": [
      "True\n",
      "True\n",
      "False\n",
      "False\n"
     ]
    }
   ],
   "source": [
    "#SP-2 Logical Operations \n",
    "val1 = bool(int(input(\"Enter first value: \")))\n",
    "val2 = bool(int(input(\"Enter second value: \")))\n",
    "\n",
    "log_and = val1 and val2\n",
    "print(log_and)\n",
    "       \n",
    "log_or = val1 or val2\n",
    "print(log_or)\n",
    "       \n",
    "log1_not = not val1\n",
    "print(log1_not)\n",
    "        \n",
    "log2_not = not val2\n",
    "print(log2_not)\n",
    "\n",
    "\n",
    "                "
   ]
  },
  {
   "cell_type": "code",
   "execution_count": 16,
   "id": "275e468b-7d70-4171-85ca-adbf0af05d3f",
   "metadata": {},
   "outputs": [
    {
     "name": "stdout",
     "output_type": "stream",
     "text": [
      "Welcome to the Identity Operators Demonstrator!\n",
      "Please enter a stirng:\n"
     ]
    },
    {
     "name": "stdin",
     "output_type": "stream",
     "text": [
      " Hi You\n"
     ]
    },
    {
     "name": "stdout",
     "output_type": "stream",
     "text": [
      "Results:\n",
      "-\"Hi You\" is the same as \"Hello\": False\n",
      "-\"Hi You\" is not the same as \"World\": True\n"
     ]
    }
   ],
   "source": [
    "#SP-3 IDENTITY OPERATIONS\n",
    "print(\"Welcome to the Identity Operators Demonstrator!\")\n",
    "print(\"Please enter a stirng:\")\n",
    "\n",
    "input_string = input()\n",
    "is_same_as_hello = input_string is \"Hello\"\n",
    "is_not_same_as_hello = input_string is not \"World\"\n",
    "\n",
    "print(\"Results:\")\n",
    "print(f\"-\\\"{input_string}\\\" is the same as \\\"Hello\\\":\", is_same_as_hello )\n",
    "print(f\"-\\\"{input_string}\\\" is not the same as \\\"World\\\":\", is_not_same_as_hello )\n"
   ]
  },
  {
   "cell_type": "code",
   "execution_count": 19,
   "id": "95f3ce3e-332a-456c-9760-1d8a99070c8f",
   "metadata": {},
   "outputs": [
    {
     "name": "stdin",
     "output_type": "stream",
     "text": [
      "Enter first value:  4\n",
      "Enter second value:  4\n"
     ]
    },
    {
     "name": "stdout",
     "output_type": "stream",
     "text": [
      "True\n",
      "False\n",
      "False\n",
      "False\n",
      "True\n",
      "True\n"
     ]
    }
   ],
   "source": [
    "# EP-1 COMPARISION OPERATORS\n",
    "val1 = int(input(\"Enter first value: \"))\n",
    "val2 = int(input(\"Enter second value: \"))\n",
    "\n",
    "print(val1==val2)\n",
    "print(val1!=val2)\n",
    "print(val1<val2)\n",
    "print(val1>val2)\n",
    "print(val1<=val2)\n",
    "print(val1>=val2)"
   ]
  },
  {
   "cell_type": "code",
   "execution_count": 30,
   "id": "f3070805-142d-49f5-9e39-1894f91ab615",
   "metadata": {},
   "outputs": [
    {
     "name": "stdin",
     "output_type": "stream",
     "text": [
      "Enter first value:  2\n",
      "Enter second value:  2\n"
     ]
    },
    {
     "name": "stdout",
     "output_type": "stream",
     "text": [
      "2\n",
      "2\n",
      "0\n",
      "0\n",
      "8\n"
     ]
    }
   ],
   "source": [
    "# EP-2 LOGICAL  OPERATORS\n",
    "val1 = int(input(\"Enter first value: \"))\n",
    "val2 = int(input(\"Enter second value: \"))\n",
    "\n",
    "print(val1&val2)\n",
    "print(val1|val2)\n",
    "print(val1^val2)\n",
    "print(val1>>val2)\n",
    "print(val1<<val2)\n"
   ]
  },
  {
   "cell_type": "code",
   "execution_count": 38,
   "id": "f49d9f67-146f-46a5-82b1-5fc0750b7922",
   "metadata": {},
   "outputs": [
    {
     "name": "stdin",
     "output_type": "stream",
     "text": [
      "Enter numbers separated by spaces:  2 3 4 5 6 7 8 9 \n",
      "Enter first value to be checked:  2\n",
      "Enter second value to be checked:  23\n"
     ]
    },
    {
     "name": "stdout",
     "output_type": "stream",
     "text": [
      "True\n",
      "True\n"
     ]
    }
   ],
   "source": [
    "# EP-3 MEMBERSHIP OPERATORs\n",
    "num = list(map(int, input(\"Enter numbers separated by spaces: \").split()))\n",
    "val1 = int(input(\"Enter first value to be checked: \"))\n",
    "val2 = int(input(\"Enter second value to be checked: \"))\n",
    "\n",
    "print(val1 in num)\n",
    "print(val2 not in num)\n",
    "\n"
   ]
  },
  {
   "cell_type": "code",
   "execution_count": 39,
   "id": "f6369c4a-7f6c-41ce-a7db-b780053795d1",
   "metadata": {},
   "outputs": [
    {
     "name": "stdin",
     "output_type": "stream",
     "text": [
      "Enter first value:  2\n",
      "Enter second value:  3\n"
     ]
    },
    {
     "name": "stdout",
     "output_type": "stream",
     "text": [
      "3\n",
      "2\n"
     ]
    }
   ],
   "source": [
    "#EP-4 SWAP 2-NUMBERS\n",
    "val1 = int(input(\"Enter first value: \"))\n",
    "val2 = int(input(\"Enter second value: \"))\n",
    "val1,val2 = val2,val1\n",
    "print(val1)\n",
    "print(val2)"
   ]
  },
  {
   "cell_type": "code",
   "execution_count": 40,
   "id": "5af4b79c-5cf5-4e6a-97a0-e503cb7edf5d",
   "metadata": {},
   "outputs": [
    {
     "name": "stdin",
     "output_type": "stream",
     "text": [
      "Enter first value:  hello\n",
      "Enter second value:  world\n"
     ]
    },
    {
     "name": "stdout",
     "output_type": "stream",
     "text": [
      "hellohellohello\n",
      "worldadd\n"
     ]
    }
   ],
   "source": [
    "#EP-5 Sting Muliplication and String Addition\n",
    "val1 = input(\"Enter first value: \")\n",
    "val2 = input(\"Enter second value: \")\n",
    "\n",
    "print(val1*3)\n",
    "print(val2+\"add\")"
   ]
  },
  {
   "cell_type": "code",
   "execution_count": 45,
   "id": "d86fe2ab-ab4d-4611-a554-553baa4c0003",
   "metadata": {},
   "outputs": [
    {
     "name": "stdin",
     "output_type": "stream",
     "text": [
      "Enter first value:  2\n"
     ]
    },
    {
     "name": "stdout",
     "output_type": "stream",
     "text": [
      "Number of seconds for X Days: 172800\n"
     ]
    }
   ],
   "source": [
    "#EP-6 Number of seconds of X days\n",
    "val1 = int(input(\"Enter first value: \"))\n",
    "\n",
    "noOfSec = val1*86400\n",
    "print(\"Number of seconds for X Days:\",noOfSec)"
   ]
  },
  {
   "cell_type": "code",
   "execution_count": 46,
   "id": "1ce16046-7aba-4f1d-841b-c5a472c5410f",
   "metadata": {},
   "outputs": [
    {
     "name": "stdin",
     "output_type": "stream",
     "text": [
      "Enter first value:  20000\n"
     ]
    },
    {
     "name": "stdout",
     "output_type": "stream",
     "text": [
      "17000.0\n"
     ]
    }
   ],
   "source": [
    "#EP-7 Gross Salary\n",
    "basic = int(input(\"Enter first value: \"))\n",
    "\n",
    "total = 0.60*basic + 0.20*basic + 0.05*basic\n",
    "print(total)"
   ]
  },
  {
   "cell_type": "code",
   "execution_count": 47,
   "id": "45b747e3-7331-4deb-9853-8a1cd9bb318a",
   "metadata": {},
   "outputs": [
    {
     "name": "stdin",
     "output_type": "stream",
     "text": [
      "Enter Principal Amount (PA):  20000\n",
      "Enter Rate of Interest (RI) in %:  8\n",
      "Enter Time in years:  2\n"
     ]
    },
    {
     "name": "stdout",
     "output_type": "stream",
     "text": [
      "Simple Interest: 3200.0\n",
      "Compound Interest: 3328.0\n"
     ]
    }
   ],
   "source": [
    "#EP-8 SIMPLE INTEREST AND COMPOUND INTEREST\n",
    "\n",
    "PA = int(input(\"Enter Principal Amount (PA): \"))\n",
    "RI = int(input(\"Enter Rate of Interest (RI) in %: \"))\n",
    "time = int(input(\"Enter Time in years: \"))\n",
    "\n",
    "SI = (PA * RI * time) / 100\n",
    "CI = PA * ((1 + RI / 100) ** time) - PA\n",
    "\n",
    "print(\"Simple Interest:\", round(SI, 2))\n",
    "print(\"Compound Interest:\", round(CI, 2))\n"
   ]
  },
  {
   "cell_type": "code",
   "execution_count": null,
   "id": "b6fa7896-098e-4623-93cb-6987ba97d035",
   "metadata": {},
   "outputs": [],
   "source": [
    "#EP-9 QUADRATIC EQUATION \n",
    "import cmath\n",
    "\n",
    "a = int(input(\"Enter value for a: \"))\n",
    "b = int(input(\"Enter value for b: \"))\n",
    "c = int(input(\"Enter value for c: \"))\n",
    "\n",
    "D = cmath.sqrt(b**2 - 4*a*c)\n",
    "x1 = (-b + D) / (2*a)\n",
    "x2 = (-b - D) / (2*a)\n",
    "\n",
    "print(f\"The solutions are: x1 = {x1}, x2 = {x2}\")\n",
    "\n",
    "\n"
   ]
  },
  {
   "cell_type": "code",
   "execution_count": 1,
   "id": "4e7b46b1-8b42-4454-8f82-f4c5d3b2d513",
   "metadata": {},
   "outputs": [
    {
     "name": "stdin",
     "output_type": "stream",
     "text": [
      "Enter capital of India:  DElhi\n",
      "Enter capital of US:  New York\n",
      "Enter capital of UK:  London\n",
      "Enter capital of China:  Being\n"
     ]
    },
    {
     "name": "stdout",
     "output_type": "stream",
     "text": [
      "Capital cities: India DElhi, US New York, UK London, China Being\n"
     ]
    }
   ],
   "source": [
    "#EP-10 FROMAT SPECIFIER\n",
    "\n",
    "india = input(\"Enter capital of India: \")\n",
    "us = input(\"Enter capital of US: \")\n",
    "uk = input(\"Enter capital of UK: \")\n",
    "china = input(\"Enter capital of China: \")\n",
    "\n",
    "print(\"Capital cities: India {}, US {}, UK {}, China {}\".format(india, us, uk, china))\n",
    "\n",
    "\n",
    "\n",
    "\n"
   ]
  },
  {
   "cell_type": "code",
   "execution_count": null,
   "id": "1cb9775c-53ff-4e4f-966f-44df460c07a3",
   "metadata": {},
   "outputs": [],
   "source": []
  }
 ],
 "metadata": {
  "kernelspec": {
   "display_name": "Python [conda env:base] *",
   "language": "python",
   "name": "conda-base-py"
  },
  "language_info": {
   "codemirror_mode": {
    "name": "ipython",
    "version": 3
   },
   "file_extension": ".py",
   "mimetype": "text/x-python",
   "name": "python",
   "nbconvert_exporter": "python",
   "pygments_lexer": "ipython3",
   "version": "3.13.5"
  }
 },
 "nbformat": 4,
 "nbformat_minor": 5
}
