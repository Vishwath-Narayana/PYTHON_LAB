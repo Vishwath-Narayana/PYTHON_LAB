{
 "cells": [
  {
   "cell_type": "code",
   "execution_count": 4,
   "id": "2960d7c9-545c-404c-8dd3-9dff926d70bd",
   "metadata": {
    "scrolled": true
   },
   "outputs": [
    {
     "name": "stdin",
     "output_type": "stream",
     "text": [
      "Enter the first number: 2\n",
      "Enter the second number: 3\n"
     ]
    },
    {
     "name": "stdout",
     "output_type": "stream",
     "text": [
      "The GCD of 2 and 3 is 1\n"
     ]
    }
   ],
   "source": [
    "# SP-1 RECURSIVE FUNCTION\n",
    "def gcd(a,b):\n",
    "    if b==0:\n",
    "        return a\n",
    "    else:\n",
    "        return gcd(b,a%b)\n",
    "\n",
    "num1= int(input(\"Enter the first number:\"))\n",
    "num2= int(input(\"Enter the second number:\"))\n",
    "\n",
    "result = gcd(num1,num2)\n",
    "print(\"The GCD of\",num1,\"and\",num2,\"is\",result)"
   ]
  },
  {
   "cell_type": "code",
   "execution_count": 6,
   "id": "9151598d-0259-4c21-b29e-01a41aa5990d",
   "metadata": {
    "scrolled": true
   },
   "outputs": [
    {
     "name": "stdout",
     "output_type": "stream",
     "text": [
      "Calling the function with 3 arguments:\n",
      "Argument 1: Hello\n",
      "Argument 2: World\n",
      "Argument 3: Python\n",
      "\n",
      "Calling the function with 5 arguments:\n",
      "Argument 1: Apple\n",
      "Argument 2: Banana\n",
      "Argument 3: Cherry\n",
      "Argument 4: Durian\n",
      "Argument 5: Elderberry\n"
     ]
    }
   ],
   "source": [
    "# SP-2 DEMO VAR LENGTH ARGUMENTS\n",
    "def print_arguments(*args):\n",
    "    for i, arg in enumerate(args, start=1):\n",
    "        print(f\"Argument {i}: {arg}\")\n",
    "\n",
    "print(\"Calling the function with 3 arguments:\")\n",
    "print_arguments(\"Hello\", \"World\", \"Python\")\n",
    "print()\n",
    "print(\"Calling the function with 5 arguments:\")\n",
    "print_arguments(\"Apple\", \"Banana\", \"Cherry\", \"Durian\", \"Elderberry\")\n"
   ]
  },
  {
   "cell_type": "code",
   "execution_count": 8,
   "id": "3d7e0b3f-dec5-4d8a-a00c-7b260f3df62c",
   "metadata": {},
   "outputs": [
    {
     "name": "stdout",
     "output_type": "stream",
     "text": [
      "Result Numbers: 8\n",
      "Doubled Numbers: [2, 4, 6, 8, 10]\n"
     ]
    }
   ],
   "source": [
    "# SP-3 DEMO LABMDA FUNCTIONS\n",
    "add = lambda x, y: x + y\n",
    "result = add(3, 5)\n",
    "print(\"Result Numbers:\", result)\n",
    "\n",
    "numbers = [1, 2, 3, 4, 5]\n",
    "doubled = list(map(lambda x: x * 2, numbers))\n",
    "print(\"Doubled Numbers:\", doubled)\n",
    "\n",
    " "
   ]
  },
  {
   "cell_type": "code",
   "execution_count": 9,
   "id": "5a440729-af92-4aa2-b897-e261b83045eb",
   "metadata": {},
   "outputs": [
    {
     "name": "stdin",
     "output_type": "stream",
     "text": [
      "Enter a number:  2\n"
     ]
    },
    {
     "name": "stdout",
     "output_type": "stream",
     "text": [
      "2 is NOT a Perfect Number\n"
     ]
    }
   ],
   "source": [
    "#EP-1 PERFECT NUMBER OR NOT WITHOUT PASSING ARGUMENTS\n",
    "\n",
    "def check_perfect():\n",
    "    num = int(input(\"Enter a number: \"))\n",
    "    divisors_sum = 0\n",
    "    for i in range(1, num):\n",
    "        if num % i == 0:\n",
    "            divisors_sum += i\n",
    "\n",
    "    if divisors_sum == num:\n",
    "        print(f\"{num} is a Perfect Number\")\n",
    "    else:\n",
    "        print(f\"{num} is NOT a Perfect Number\")\n",
    "\n",
    "check_perfect()\n"
   ]
  },
  {
   "cell_type": "code",
   "execution_count": 10,
   "id": "c191d214-b944-4da9-9ef6-e3af03360607",
   "metadata": {},
   "outputs": [
    {
     "name": "stdin",
     "output_type": "stream",
     "text": [
      "Enter a number:  3\n"
     ]
    },
    {
     "name": "stdout",
     "output_type": "stream",
     "text": [
      "3 is an Armstrong number\n"
     ]
    }
   ],
   "source": [
    "#ep-2 ARMSTRONG NUMBER OR NOT WITH PASSING ARGUMENTS\n",
    "\n",
    "def is_armstrong(number):\n",
    "    num_str = str(number)\n",
    "    num_digits = len(num_str)\n",
    "    total = sum(int(digit) ** num_digits for digit in num_str)\n",
    "    return total == number\n",
    "\n",
    "n = int(input(\"Enter a number: \"))\n",
    "if is_armstrong(n):\n",
    "    print(f\"{n} is an Armstrong number\")\n",
    "else:\n",
    "    print(f\"{n} is NOT an Armstrong number\")\n"
   ]
  },
  {
   "cell_type": "code",
   "execution_count": null,
   "id": "8075e404-1d70-4a18-80c2-a512271bcd37",
   "metadata": {},
   "outputs": [],
   "source": []
  }
 ],
 "metadata": {
  "kernelspec": {
   "display_name": "Python [conda env:base] *",
   "language": "python",
   "name": "conda-base-py"
  },
  "language_info": {
   "codemirror_mode": {
    "name": "ipython",
    "version": 3
   },
   "file_extension": ".py",
   "mimetype": "text/x-python",
   "name": "python",
   "nbconvert_exporter": "python",
   "pygments_lexer": "ipython3",
   "version": "3.13.5"
  }
 },
 "nbformat": 4,
 "nbformat_minor": 5
}
