{
 "cells": [
  {
   "cell_type": "code",
   "execution_count": 9,
   "id": "3f181424-fb73-478f-913a-a5efffa4f0b7",
   "metadata": {},
   "outputs": [
    {
     "name": "stdin",
     "output_type": "stream",
     "text": [
      "Enter a year: 2012\n"
     ]
    },
    {
     "name": "stdout",
     "output_type": "stream",
     "text": [
      "It's a leap Year\n"
     ]
    }
   ],
   "source": [
    "#SP-1 TO FIND LEAP YEAR\n",
    "year = int(input(\"Enter a year:\"))\n",
    "\n",
    "if(year%4==0 and year%100!=0) or year%400==0 :\n",
    "    print(\"It's a leap Year\")\n",
    "else:\n",
    "    print(\"It's not a leap year\")\n",
    "    "
   ]
  },
  {
   "cell_type": "code",
   "execution_count": 12,
   "id": "e7e18d87-9e35-480b-979f-36944ef18c15",
   "metadata": {},
   "outputs": [
    {
     "name": "stdin",
     "output_type": "stream",
     "text": [
      "Enter a base value: 2\n",
      "Enter a Exponent value: 5\n"
     ]
    },
    {
     "name": "stdout",
     "output_type": "stream",
     "text": [
      "2 raised to the powerog 5 is 32\n"
     ]
    }
   ],
   "source": [
    "#SP-2 Exponentaton(Power) of a number\n",
    "\n",
    "base = int(input(\"Enter a base value:\"))\n",
    "expo = int(input(\"Enter a Exponent value:\"))\n",
    "\n",
    "square = base**expo\n",
    "\n",
    "print(base,\"raised to the powerog\",expo,\"is\",square)\n"
   ]
  },
  {
   "cell_type": "code",
   "execution_count": 20,
   "id": "639037e6-6671-4d8c-a484-0ec020c06f5f",
   "metadata": {},
   "outputs": [
    {
     "name": "stdin",
     "output_type": "stream",
     "text": [
      "Enter a number:  9\n"
     ]
    },
    {
     "name": "stdout",
     "output_type": "stream",
     "text": [
      "Primes numbers upto limit 9 are: 2,3,5,7\n"
     ]
    }
   ],
   "source": [
    "#SP-3 Generate prime numbers upto given numbers\n",
    "import math \n",
    "\n",
    "limit = int(input(\"Enter a number: \"))\n",
    "primes=[]\n",
    "for num in range(2,limit+1):\n",
    "    is_prime = True\n",
    "    for divisor in range(2,math.isqrt(num)+1):\n",
    "        if num%divisor==0:\n",
    "            is_prime = False\n",
    "            break\n",
    "    if is_prime:\n",
    "        primes.append(num)\n",
    "print(\"Primes numbers upto limit\", limit,\"are:\",\",\".join(map(str,primes)))\n",
    "\n"
   ]
  },
  {
   "cell_type": "code",
   "execution_count": null,
   "id": "0117a2c3-b26d-468b-af19-345b5d7d8408",
   "metadata": {},
   "outputs": [],
   "source": [
    "#EP-1 EVEN OR ODD\n",
    "\n",
    "num = int(input(\"Enter a number: \"))\n",
    "if num % 2 == 0:\n",
    "    print(num, \"is Even\")\n",
    "else:\n",
    "    print(num, \"is Odd\")\n"
   ]
  },
  {
   "cell_type": "code",
   "execution_count": null,
   "id": "1a76a181-aced-42e0-a1f7-bebd8933365f",
   "metadata": {},
   "outputs": [],
   "source": [
    "#EP-2 UPPER OR LOWER USING ASCII REPRESENTATION\n",
    "\n",
    "ch = input(\"Enter a character: \")\n",
    "\n",
    "if len(ch) == 1:  # Ensure only one character\n",
    "    ascii_val = ord(ch)\n",
    "    if 65 <= ascii_val <= 90:\n",
    "        print(\"Upper\")\n",
    "    elif 97 <= ascii_val <= 122:\n",
    "        print(\"Lower\")\n",
    "    else:\n",
    "        print(\"Not an alphabet\")\n",
    "else:\n",
    "    print(\"Please enter only one character\")\n"
   ]
  },
  {
   "cell_type": "code",
   "execution_count": 21,
   "id": "b1cf2005-8406-4fd3-81a3-7084d349f679",
   "metadata": {},
   "outputs": [
    {
     "name": "stdin",
     "output_type": "stream",
     "text": [
      "Enter a 3 numbers: 1 2 3 \n"
     ]
    },
    {
     "name": "stdout",
     "output_type": "stream",
     "text": [
      "3 is greater\n"
     ]
    }
   ],
   "source": [
    "#EP-3 LARGEST AMONG 3 NUMBERS\n",
    "\n",
    "a,b,c = map(int,input(\"Enter a 3 numbers:\").split( ))\n",
    "\n",
    "if(a>b and a>c):\n",
    "    print(a,\"is greater\")\n",
    "elif(b>a and b>c):\n",
    "    print(b,\"is greater\")\n",
    "else:\n",
    "    print(c,\"is greater\")"
   ]
  },
  {
   "cell_type": "code",
   "execution_count": null,
   "id": "d5c48c7c-4910-4c18-9e07-a25e24928596",
   "metadata": {},
   "outputs": [],
   "source": [
    "#EP-4 Given Year is leap year or not \n",
    "\n",
    "year = int(input(\"Enter a year:\"))\n",
    "\n",
    "if(year%4==0 and year%100!=0) or year%400==0 :\n",
    "    print(\"It's a leap Year\")\n",
    "else:\n",
    "    print(\"It's not a leap year\")\n"
   ]
  },
  {
   "cell_type": "code",
   "execution_count": 23,
   "id": "b107e90a-1141-42d2-8167-a0c224d391f8",
   "metadata": {},
   "outputs": [
    {
     "name": "stdin",
     "output_type": "stream",
     "text": [
      "Enter a num:  12321\n"
     ]
    },
    {
     "name": "stdout",
     "output_type": "stream",
     "text": [
      "Palindrome\n"
     ]
    }
   ],
   "source": [
    "#EP-5 CHECK It's a palidrome or not \n",
    "\n",
    "num= int(input(\"Enter a num: \"))\n",
    "string = str(num)\n",
    "\n",
    "if string == string[::-1]:\n",
    "    print(\"Palindrome\")\n",
    "else:\n",
    "    print(\"Not a Palindrome\")\n"
   ]
  },
  {
   "cell_type": "code",
   "execution_count": null,
   "id": "4a1e4467-979b-43af-831d-7100d3aba937",
   "metadata": {},
   "outputs": [],
   "source": [
    "#EP-6 GCD of a given Number using while loop\n",
    "\n",
    "import math\n",
    "\n",
    "num1 = int(input(\"Enter first number: \"))\n",
    "num2 = int(input(\"Enter second number: \"))\n",
    "\n",
    "gcd = math.gcd(num1, num2)\n",
    "print(\"GCD of\", num1, \"and\", num2, \"is:\", gcd)\n"
   ]
  },
  {
   "cell_type": "code",
   "execution_count": null,
   "id": "9f9e8952-7fa5-41f1-a8c6-1988ccba6327",
   "metadata": {},
   "outputs": [],
   "source": [
    "#EP-7 WHILE WITH ELSE \n",
    "\n",
    "num = int(input(\"Enter a number: \"))\n",
    "i = 2\n",
    "\n",
    "while i < num:\n",
    "    if num % i == 0:\n",
    "        print(num, \"is not a prime number\")\n",
    "        break\n",
    "    i += 1\n",
    "else:\n",
    "    print(num, \"is a prime number\")\n"
   ]
  },
  {
   "cell_type": "code",
   "execution_count": 24,
   "id": "c2845f11-de35-4792-b677-99e63d2dccaa",
   "metadata": {},
   "outputs": [
    {
     "name": "stdin",
     "output_type": "stream",
     "text": [
      "Enter a number: 5\n"
     ]
    },
    {
     "name": "stdout",
     "output_type": "stream",
     "text": [
      "5\n",
      "4\n",
      "3\n",
      "2\n",
      "1\n"
     ]
    }
   ],
   "source": [
    "#EP-8 print sequence of numbers in reverse order\n",
    "\n",
    "num = int(input(\"Enter a number:\"))\n",
    "\n",
    "while num >= 1:\n",
    "    print(num)\n",
    "    num -= 1\n",
    "\n"
   ]
  },
  {
   "cell_type": "code",
   "execution_count": 25,
   "id": "53cab593-166d-4272-9fec-2477d1a02584",
   "metadata": {},
   "outputs": [
    {
     "name": "stdin",
     "output_type": "stream",
     "text": [
      "Enter number of rows:  5\n"
     ]
    },
    {
     "name": "stdout",
     "output_type": "stream",
     "text": [
      "    * \n",
      "   * * \n",
      "  * * * \n",
      " * * * * \n",
      "* * * * * \n"
     ]
    }
   ],
   "source": [
    "#EP-9 Pyramid Sequence using for loop\n",
    "\n",
    "rows = int(input(\"Enter number of rows: \"))\n",
    "\n",
    "for i in range(1, rows + 1):\n",
    "    print(\" \" * (rows - i), end=\"\")\n",
    "    print(\"* \" * i)\n"
   ]
  },
  {
   "cell_type": "code",
   "execution_count": 26,
   "id": "7c98f974-8478-4cb5-a1eb-95e9421faea4",
   "metadata": {},
   "outputs": [
    {
     "name": "stdin",
     "output_type": "stream",
     "text": [
      "Enter the number of terms:  6\n"
     ]
    },
    {
     "name": "stdout",
     "output_type": "stream",
     "text": [
      "Fibonacci Series:\n",
      "0 1 1 2 3 5 "
     ]
    }
   ],
   "source": [
    "#EP-10 Fibonacci Series using for loop\n",
    "\n",
    "n = int(input(\"Enter the number of terms: \"))\n",
    "\n",
    "a, b = 0, 1 \n",
    "print(\"Fibonacci Series:\")\n",
    "\n",
    "for i in range(n):\n",
    "    print(a, end=\" \")\n",
    "    a, b = b, a + b\n"
   ]
  },
  {
   "cell_type": "code",
   "execution_count": null,
   "id": "00dc6375-8dba-48d8-a125-a61ef3d3e778",
   "metadata": {},
   "outputs": [],
   "source": []
  }
 ],
 "metadata": {
  "kernelspec": {
   "display_name": "Python [conda env:New folder]",
   "language": "python",
   "name": "conda-env-New_folder-py"
  },
  "language_info": {
   "codemirror_mode": {
    "name": "ipython",
    "version": 3
   },
   "file_extension": ".py",
   "mimetype": "text/x-python",
   "name": "python",
   "nbconvert_exporter": "python",
   "pygments_lexer": "ipython3",
   "version": "3.13.5"
  }
 },
 "nbformat": 4,
 "nbformat_minor": 5
}
