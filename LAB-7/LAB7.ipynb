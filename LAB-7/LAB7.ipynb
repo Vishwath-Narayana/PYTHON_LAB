{
 "cells": [
  {
   "cell_type": "code",
   "execution_count": 1,
   "id": "ac5829ef-534c-46a8-87c4-f3b541ee4d84",
   "metadata": {},
   "outputs": [
    {
     "name": "stdin",
     "output_type": "stream",
     "text": [
      "Enter a string fbgdnjyjyutgbdgdbgdb\n",
      "Enter the mask character *\n"
     ]
    },
    {
     "data": {
      "text/plain": [
       "['*',\n",
       " '*',\n",
       " '*',\n",
       " '*',\n",
       " '*',\n",
       " '*',\n",
       " '*',\n",
       " '*',\n",
       " '*',\n",
       " 'u',\n",
       " '*',\n",
       " '*',\n",
       " '*',\n",
       " '*',\n",
       " '*',\n",
       " '*',\n",
       " '*',\n",
       " '*',\n",
       " '*',\n",
       " '*']"
      ]
     },
     "execution_count": 1,
     "metadata": {},
     "output_type": "execute_result"
    }
   ],
   "source": [
    "#SP-1 demonstrate list comprehensions\n",
    "str=input(\"Enter a string\")\n",
    "char=input(\"Enter the mask character\")\n",
    "[x if x in 'aeiou' else char for x in str]\n"
   ]
  },
  {
   "cell_type": "code",
   "execution_count": 9,
   "id": "eaf232bb-7bc1-449f-b01c-c822b585d261",
   "metadata": {},
   "outputs": [
    {
     "name": "stdout",
     "output_type": "stream",
     "text": [
      "words with length5:\n",
      "apple\n",
      "\n",
      "words with length5:\n",
      "apple\n",
      "\n",
      "words with length6:\n",
      "banana\n",
      "\n",
      "words with length5:\n",
      "apple\n",
      "\n",
      "words with length6:\n",
      "banana\n",
      "\n",
      "words with length3:\n",
      "cat\n",
      "\n",
      "words with length5:\n",
      "apple\n",
      "\n",
      "words with length6:\n",
      "banana\n",
      "\n",
      "words with length3:\n",
      "cat\n",
      "dog\n",
      "\n",
      "words with length8:\n",
      "elephant\n",
      "\n"
     ]
    }
   ],
   "source": [
    "#SP-2 words based on word length\n",
    "def display_words_by_length(words):\n",
    "    word_lengths={}\n",
    "    for word in words:\n",
    "        word_length=len(word)\n",
    "        if word_length in word_lengths:\n",
    "            word_lengths[word_length].append(word)\n",
    "        else:\n",
    "            word_lengths[word_length]=[word]\n",
    "            for length, words in word_lengths.items():\n",
    "                print(f\"words with length{length}:\")\n",
    "                for word in words:\n",
    "                    print(word)\n",
    "                print()\n",
    "\n",
    "words = [\"apple\" , \"banana\" , \"cat\" , \"dog\" , \"elephant\"] \n",
    "display_words_by_length(words)"
   ]
  },
  {
   "cell_type": "code",
   "execution_count": 11,
   "id": "8f353d21-0c35-49ec-a0d9-0d78ea91c9e5",
   "metadata": {},
   "outputs": [
    {
     "name": "stdout",
     "output_type": "stream",
     "text": [
      "SQUARES: {576, 529, 676, 625}\n",
      "CUBES: {13824, 15625, 17576, 12167}\n",
      "UPDATE: {576, 13824, 676, 12167, 17576, 15625, 529, 625}\n",
      "ADD: {576, 13824, 676, 12167, 17576, 15625, 529, 625, 1331, 121}\n",
      "POP: 576\n",
      "REMOVE: {13824, 676, 12167, 17576, 15625, 529, 625, 121}\n",
      "CLEAR: set()\n"
     ]
    }
   ],
   "source": [
    "#SP-3 list comprehension with add and update\n",
    "sq=set([x**2 for x in range(23,27)])\n",
    "cu=set([x**3 for x in range(23,27)])\n",
    "print(\"SQUARES:\",sq)\n",
    "print(\"CUBES:\",cu)\n",
    "sq.update(cu)\n",
    "print(\"UPDATE:\",sq)\n",
    "sq.add(11*11)\n",
    "sq.add(11*11*11)\n",
    "print(\"ADD:\",sq)\n",
    "print(\"POP:\",sq.pop())\n",
    "sq.remove(1331)\n",
    "print(\"REMOVE:\",sq)\n",
    "sq.clear()\n",
    "print(\"CLEAR:\",sq)\n"
   ]
  },
  {
   "cell_type": "code",
   "execution_count": 13,
   "id": "fa92e691-49c6-49f5-85f3-0ad7de507eee",
   "metadata": {},
   "outputs": [
    {
     "name": "stdout",
     "output_type": "stream",
     "text": [
      "[(12, 11), (14, 13), (16, 15)]\n"
     ]
    }
   ],
   "source": [
    "#SP-4 for reversing each tuple in a list of tuples\n",
    "tuples=[(11,12),(13,14),(15,16)]\n",
    "reversed_tuples=[]\n",
    "for tup in tuples:\n",
    "    reversed_tup=tuple(reversed(tup))\n",
    "    reversed_tuples.append(reversed_tup)\n",
    "print(reversed_tuples)"
   ]
  },
  {
   "cell_type": "code",
   "execution_count": 14,
   "id": "3933f26b-0e82-4f86-9124-37b871c97965",
   "metadata": {},
   "outputs": [
    {
     "name": "stdout",
     "output_type": "stream",
     "text": [
      "Slice from index 1 to 6 with step 2: [20, 40, 60]\n",
      "Reversed list: [80, 70, 60, 50, 40, 30, 20, 10]\n"
     ]
    }
   ],
   "source": [
    "#EP-1 to demonstrate slice operation on list\n",
    "numbers = [10, 20, 30, 40, 50, 60, 70, 80]\n",
    "slice1 = numbers[1:7:2]\n",
    "print(\"Slice from index 1 to 6 with step 2:\", slice1)  \n",
    "slice2 = numbers[::-1]\n",
    "print(\"Reversed list:\", slice2)\n"
   ]
  },
  {
   "cell_type": "code",
   "execution_count": 20,
   "id": "e62c8144-58fd-45a2-a3d9-0fc4473f06c1",
   "metadata": {},
   "outputs": [
    {
     "name": "stdout",
     "output_type": "stream",
     "text": [
      "[1, 2, 3, 4, 1, 2, 3, 4, 1, 2, 3, 4]\n",
      "Addition: [1, 2, 3, 4, 5, 6, 7, 8]\n"
     ]
    }
   ],
   "source": [
    "#EP-2 arithmetic operations on list\n",
    "list1=[1,2,3,4]\n",
    "list2=[5,6,7,8]\n",
    "list3=list1+list2\n",
    "product=list1*3\n",
    "print(product)\n",
    "print(\"Addition:\",list3)"
   ]
  },
  {
   "cell_type": "code",
   "execution_count": 25,
   "id": "c6b002bb-b394-4c9c-8b82-974d65bb49dc",
   "metadata": {},
   "outputs": [
    {
     "name": "stdout",
     "output_type": "stream",
     "text": [
      "['liked', 'NO', 'NO', 'NO']\n"
     ]
    }
   ],
   "source": [
    "#EP-3 accessing list within list with looping statements\n",
    "colors=[[\"pink\",\"yellow\"],\"blue\",\"black\",\"white\"]\n",
    "favorite=[\"liked\" if i==[\"pink\",\"yellow\"] else \"NO\" for i in colors]\n",
    "print(favorite)"
   ]
  },
  {
   "cell_type": "code",
   "execution_count": 47,
   "id": "a04024df-e70d-4439-9ef0-c83b6ae0c5de",
   "metadata": {},
   "outputs": [
    {
     "name": "stdout",
     "output_type": "stream",
     "text": [
      "3\n",
      "[22, 33, 44, 33, 12, 19, 33, 55, 77]\n",
      "[22, 33, 44, 33, 12, 19, 33, 55, 77, [99, 100]]\n",
      "[22, 33, 44, 33, 14, 12, 19, 33, 55, 77, [99, 100]]\n",
      "[22, 33, 44, 14, 12, 19, 33, 55, 77, [99, 100]]\n",
      "[22, 33, 44, 14, 19, 33, 55, 77, [99, 100]]\n",
      "[22, 33, 44, 14, 19, 33, 55, 77, [99, 100]]\n",
      "<built-in method sort of list object at 0x0000024E3964C5C0>\n",
      "1\n"
     ]
    }
   ],
   "source": [
    "#EP-4 list methods\n",
    "list1=[22,33,44,33,12,19,33]\n",
    "print(list1.count(33))\n",
    "list1.extend([55,77])\n",
    "print(list1)\n",
    "list1.append([99,100])\n",
    "print(list1)\n",
    "list1.insert(4,14)\n",
    "print(list1)\n",
    "list1.pop(3)\n",
    "print(list1)\n",
    "list1.remove(12)\n",
    "print(list1)\n",
    "list1.reverse\n",
    "print(list1)\n",
    "print(list1.sort)\n",
    "print(list1.index(33))\n"
   ]
  },
  {
   "cell_type": "code",
   "execution_count": 49,
   "id": "2c6ed052-8d1d-4bb1-81b3-064be8bdaa97",
   "metadata": {},
   "outputs": [
    {
     "name": "stdout",
     "output_type": "stream",
     "text": [
      "=== Stack Operations ===\n",
      "Stack after pushes: [10, 20, 30]\n",
      "Popped element: 30\n",
      "Stack after pop: [10, 20]\n",
      "\n",
      "=== Queue Operations ===\n",
      "Queue after enqueues: ['A', 'B', 'C']\n",
      "Dequeued element: A\n",
      "Queue after dequeue: ['B', 'C']\n"
     ]
    }
   ],
   "source": [
    "#EP-5 list as queue and stack\n",
    "print(\"=== Stack Operations ===\")\n",
    "stack = []\n",
    "stack.append(10)\n",
    "stack.append(20)\n",
    "stack.append(30)\n",
    "print(\"Stack after pushes:\", stack)\n",
    "top_element = stack.pop()\n",
    "print(\"Popped element:\", top_element)\n",
    "print(\"Stack after pop:\", stack)\n",
    "\n",
    "print(\"\\n=== Queue Operations ===\")\n",
    "queue = []\n",
    "queue.append('A')\n",
    "queue.append('B')\n",
    "queue.append('C')\n",
    "print(\"Queue after enqueues:\", queue)\n",
    "front_element = queue.pop(0)\n",
    "print(\"Dequeued element:\", front_element)\n",
    "print(\"Queue after dequeue:\", queue)\n",
    "\n"
   ]
  },
  {
   "cell_type": "code",
   "execution_count": 2,
   "id": "c11a6794-b503-4814-abd5-6a7fb7300216",
   "metadata": {},
   "outputs": [
    {
     "name": "stdout",
     "output_type": "stream",
     "text": [
      "Tuple: (1, 2, 3)\n",
      "Element at index 1: 2\n",
      "Unpacked values: 1 2 3\n"
     ]
    }
   ],
   "source": [
    "#ep-6\n",
    "\n",
    "# Define a tuple\n",
    "my_tuple = (1, 2, 3)\n",
    "\n",
    "# Print the tuple\n",
    "print(\"Tuple:\", my_tuple)\n",
    "\n",
    "# Access element\n",
    "print(\"Element at index 1:\", my_tuple[1])\n",
    "\n",
    "# Tuple unpacking\n",
    "a, b, c = my_tuple\n",
    "print(\"Unpacked values:\", a, b, c)"
   ]
  },
  {
   "cell_type": "code",
   "execution_count": 4,
   "id": "d198209e-d6f8-4217-b37b-d0768366246b",
   "metadata": {},
   "outputs": [
    {
     "name": "stdout",
     "output_type": "stream",
     "text": [
      "Original tuple: (10, 20, 30, 40, 20, 50)\n",
      "Element at index 2: 30\n",
      "Slice from index 1 to 4: (20, 30, 40, 20)\n",
      "Count of 20: 2\n",
      "Index of 40: 3\n",
      "After concatenation: (10, 20, 30, 40, 20, 50, 60, 70)\n",
      "Repetition: (60, 70, 60, 70, 60, 70)\n",
      "Length of original tuple: 6\n"
     ]
    }
   ],
   "source": [
    "#ep-7\n",
    "\n",
    "t = (10, 20, 30, 40, 20, 50)\n",
    "print(\"Original tuple:\", t)\n",
    "# 1. Accessing elements\n",
    "print(\"Element at index 2:\", t[2])\n",
    "# 2. Slicing\n",
    "print(\"Slice from index 1 to 4:\", t[1:5])\n",
    "# 3. Count occurrences of a value\n",
    "print(\"Count of 20:\", t.count(20))\n",
    "# 4. Find index of a value\n",
    "print(\"Index of 40:\", t.index(40))\n",
    "# 5. Tuple concatenation\n",
    "t2 = (60, 70)\n",
    "t3 = t + t2\n",
    "print(\"After concatenation:\", t3)\n",
    "# 6. Repetition\n",
    "print(\"Repetition:\", t2 * 3)\n",
    "# 7. Length of tuple\n",
    "print(\"Length of original tuple:\", len(t))"
   ]
  },
  {
   "cell_type": "code",
   "execution_count": 5,
   "id": "485fd034-0534-47b3-a89a-684453cde969",
   "metadata": {},
   "outputs": [
    {
     "name": "stdout",
     "output_type": "stream",
     "text": [
      "Set 1: {1, 2, 3, 4, 5}\n",
      "Set 2: {4, 5, 6, 7, 8}\n",
      "Union: {1, 2, 3, 4, 5, 6, 7, 8}\n",
      "Intersection: {4, 5}\n",
      "Difference (set1 - set2): {1, 2, 3}\n",
      "After adding 10 to set1: {1, 2, 3, 4, 5, 10}\n",
      "After removing 6 from set2: {4, 5, 7, 8}\n"
     ]
    }
   ],
   "source": [
    "#ep-8\n",
    "\n",
    "# Define two sets\n",
    "set1 = {1, 2, 3, 4, 5}\n",
    "set2 = {4, 5, 6, 7, 8}\n",
    "print(\"Set 1:\", set1)\n",
    "print(\"Set 2:\", set2)\n",
    "# Union - combines all unique elements\n",
    "print(\"Union:\", set1 | set2)\n",
    "# Intersection - common elements\n",
    "print(\"Intersection:\", set1 & set2)\n",
    "# Difference - elements in set1 but not in set2\n",
    "print(\"Difference (set1 - set2):\", set1 - set2)\n",
    "# Adding an element\n",
    "set1.add(10)\n",
    "print(\"After adding 10 to set1:\", set1)\n",
    "# Removing an element\n",
    "set2.remove(6)\n",
    "print(\"After removing 6 from set2:\", set2)"
   ]
  },
  {
   "cell_type": "code",
   "execution_count": 6,
   "id": "3097b118-ae70-4e3f-8e4d-f0282fb2c37f",
   "metadata": {},
   "outputs": [
    {
     "name": "stdout",
     "output_type": "stream",
     "text": [
      "Name: Bob\n",
      "Age: 30\n",
      "Updated dictionary: {'name': 'Bob', 'age': 30, 'city': 'London'}\n"
     ]
    }
   ],
   "source": [
    "#ep-9\n",
    "\n",
    "# Define a dictionary\n",
    "my_dict = {\"name\": \"Bob\", \"age\": 30}\n",
    "# Access and print values\n",
    "print(\"Name:\", my_dict[\"name\"])\n",
    "print(\"Age:\", my_dict[\"age\"])\n",
    "# Add a new key-value pair\n",
    "my_dict[\"city\"] = \"London\"\n",
    "print(\"Updated dictionary:\", my_dict)"
   ]
  },
  {
   "cell_type": "code",
   "execution_count": null,
   "id": "8304f033-d3dc-4b11-9100-9a6fc2be922b",
   "metadata": {},
   "outputs": [],
   "source": []
  }
 ],
 "metadata": {
  "kernelspec": {
   "display_name": "Python 3 (ipykernel)",
   "language": "python",
   "name": "python3"
  },
  "language_info": {
   "codemirror_mode": {
    "name": "ipython",
    "version": 3
   },
   "file_extension": ".py",
   "mimetype": "text/x-python",
   "name": "python",
   "nbconvert_exporter": "python",
   "pygments_lexer": "ipython3",
   "version": "3.13.5"
  }
 },
 "nbformat": 4,
 "nbformat_minor": 5
}
