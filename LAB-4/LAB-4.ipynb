{
 "cells": [
  {
   "cell_type": "code",
   "execution_count": 1,
   "id": "a1ea2909-fe1c-4351-98c3-672098e37ba0",
   "metadata": {},
   "outputs": [
    {
     "name": "stdout",
     "output_type": "stream",
     "text": [
      "square of 5: 25\n",
      "cube of 3: 27\n",
      "sum of 10 and 15: 25\n"
     ]
    }
   ],
   "source": [
    "#sp-1\n",
    "\n",
    "import operators\n",
    "res1 = operators.square(5)\n",
    "print(\"square of 5:\",res1)\n",
    "res2 = operators.cube(3)\n",
    "print(\"cube of 3:\",res2)\n",
    "res3 = operators.add(10,15)\n",
    "print(\"sum of 10 and 15:\",res3)"
   ]
  },
  {
   "cell_type": "code",
   "execution_count": 2,
   "id": "cec099c0-0d03-463b-9fcb-1a4e85b9678d",
   "metadata": {},
   "outputs": [
    {
     "name": "stdin",
     "output_type": "stream",
     "text": [
      "Enter no of disks: 4\n"
     ]
    },
    {
     "name": "stdout",
     "output_type": "stream",
     "text": [
      "move disk 1from a to b\n",
      "move disk 2 from a to c\n",
      "move disk 1from b to c\n",
      "move disk 3 from a to b\n",
      "move disk 1from c to a\n",
      "move disk 2 from c to b\n",
      "move disk 1from a to b\n",
      "move disk 4 from a to c\n",
      "move disk 1from b to c\n",
      "move disk 2 from b to a\n",
      "move disk 1from c to a\n",
      "move disk 3 from b to c\n",
      "move disk 1from a to b\n",
      "move disk 2 from a to c\n",
      "move disk 1from b to c\n"
     ]
    }
   ],
   "source": [
    "#SP-2\n",
    "\n",
    "def tower_of_hanoi(n, source, auxiliary, destination):\n",
    "  if n==1:\n",
    "    print(f\"move disk 1from {source} to {destination}\")\n",
    "    return\n",
    "  tower_of_hanoi(n-1,source, destination, auxiliary)\n",
    "  print(f\"move disk {n} from {source} to {destination}\")\n",
    "  tower_of_hanoi(n-1, auxiliary, source, destination)\n",
    "num_disks = int(input(\"Enter no of disks:\"))\n",
    "tower_of_hanoi(num_disks, 'a', 'b', 'c')"
   ]
  },
  {
   "cell_type": "code",
   "execution_count": 3,
   "id": "4262b897-1d26-4cf9-abed-076c3fbbe028",
   "metadata": {},
   "outputs": [
    {
     "name": "stdout",
     "output_type": "stream",
     "text": [
      "Script name: C:\\Users\\selab43\\anaconda4\\Lib\\site-packages\\ipykernel_launcher.py\n",
      "Arguments passed:\n",
      "-f\n",
      "C:\\Users\\selab43\\AppData\\Roaming\\jupyter\\runtime\\kernel-0873bf5b-4f2b-404e-9434-679272177419.json\n"
     ]
    }
   ],
   "source": [
    "#EP-1\n",
    "\n",
    "import sys\n",
    "print(\"Script name:\", sys.argv[0])\n",
    "if len(sys.argv) > 1:\n",
    "  print(\"Arguments passed:\")\n",
    "  for arg in sys.argv[1:]:\n",
    "    print(arg)\n",
    "else:\n",
    "  print(\"No arguments passed.\")"
   ]
  },
  {
   "cell_type": "code",
   "execution_count": 5,
   "id": "0e685e67-bad9-46c8-863f-88f4c95684a1",
   "metadata": {},
   "outputs": [
    {
     "name": "stdout",
     "output_type": "stream",
     "text": [
      "Hello, Vishwath!\n"
     ]
    }
   ],
   "source": [
    "#EP-2\n",
    "\n",
    "import my_module\n",
    "print(my_module.greet(\"Vishwath\"))"
   ]
  },
  {
   "cell_type": "code",
   "execution_count": 6,
   "id": "3af819ed-7d89-480f-bc3b-66c640e70028",
   "metadata": {},
   "outputs": [
    {
     "name": "stdout",
     "output_type": "stream",
     "text": [
      "Original deck:\n",
      "['2 of Hearts', '3 of Hearts', '4 of Hearts', '5 of Hearts', '6 of Hearts', '7 of Hearts', '8 of Hearts', '9 of Hearts', '10 of Hearts', 'J of Hearts', 'Q of Hearts', 'K of Hearts', 'A of Hearts', '2 of Diamonds', '3 of Diamonds', '4 of Diamonds', '5 of Diamonds', '6 of Diamonds', '7 of Diamonds', '8 of Diamonds', '9 of Diamonds', '10 of Diamonds', 'J of Diamonds', 'Q of Diamonds', 'K of Diamonds', 'A of Diamonds', '2 of Clubs', '3 of Clubs', '4 of Clubs', '5 of Clubs', '6 of Clubs', '7 of Clubs', '8 of Clubs', '9 of Clubs', '10 of Clubs', 'J of Clubs', 'Q of Clubs', 'K of Clubs', 'A of Clubs', '2 of Spades', '3 of Spades', '4 of Spades', '5 of Spades', '6 of Spades', '7 of Spades', '8 of Spades', '9 of Spades', '10 of Spades', 'J of Spades', 'Q of Spades', 'K of Spades', 'A of Spades']\n",
      "\n",
      "Shuffled deck:\n",
      "['2 of Spades', '2 of Clubs', 'A of Spades', '5 of Spades', '9 of Diamonds', '10 of Clubs', 'A of Diamonds', '8 of Spades', '10 of Diamonds', '9 of Hearts', 'K of Clubs', 'Q of Spades', 'Q of Diamonds', '6 of Diamonds', '6 of Clubs', '10 of Spades', 'J of Hearts', '6 of Hearts', '4 of Diamonds', 'J of Clubs', '7 of Spades', '7 of Hearts', '3 of Clubs', 'K of Diamonds', '5 of Hearts', '4 of Hearts', '9 of Clubs', '7 of Clubs', '3 of Hearts', '6 of Spades', '5 of Clubs', 'Q of Hearts', 'K of Spades', '8 of Diamonds', '7 of Diamonds', '4 of Spades', '8 of Clubs', 'J of Spades', '8 of Hearts', '3 of Diamonds', 'K of Hearts', 'A of Hearts', '5 of Diamonds', '9 of Spades', '4 of Clubs', '2 of Hearts', '2 of Diamonds', 'A of Clubs', '3 of Spades', '10 of Hearts', 'Q of Clubs', 'J of Diamonds']\n"
     ]
    }
   ],
   "source": [
    "#EP-6\n",
    "\n",
    "import random\n",
    "def create_deck():\n",
    "  suits = ['Hearts', 'Diamonds', 'Clubs', 'Spades']\n",
    "  ranks = ['2', '3', '4', '5', '6', '7', '8', '9', '10', 'J', 'Q', 'K', 'A']\n",
    "  deck = [f\"{rank} of {suit}\" for suit in suits for rank in ranks]\n",
    "  return deck\n",
    "def shuffle_deck(deck):\n",
    "  random.shuffle(deck)\n",
    "deck = create_deck()\n",
    "print(\"Original deck:\")\n",
    "print(deck)\n",
    "shuffle_deck(deck)\n",
    "print(\"\\nShuffled deck:\")\n",
    "print(deck)"
   ]
  },
  {
   "cell_type": "code",
   "execution_count": 7,
   "id": "d3f54d28-38b1-4012-999e-4ce045e50cbc",
   "metadata": {},
   "outputs": [
    {
     "name": "stdout",
     "output_type": "stream",
     "text": [
      "Number of days between 2024-01-01 and 2024-01-31: 30\n"
     ]
    }
   ],
   "source": [
    "#EP-7\n",
    "\n",
    "from datetime import datetime\n",
    "# Function to count days between two dates\n",
    "def count_days_between(date1_str, date2_str, date_format=\"%Y-%m-%d\"):\n",
    "  date1 = datetime.strptime(date1_str, date_format)\n",
    "  date2 = datetime.strptime(date2_str, date_format)\n",
    "  delta = date2 - date1\n",
    "  return abs(delta.days) # absolute value to avoid negative days\n",
    "    \n",
    "# Example usage\n",
    "date1 = \"2024-01-01\"\n",
    "date2 = \"2024-01-31\"\n",
    "days_between = count_days_between(date1, date2)\n",
    "print(f\"Number of days between {date1} and {date2}: {days_between}\")"
   ]
  },
  {
   "cell_type": "code",
   "execution_count": 8,
   "id": "e821417c-8e48-48c9-94f5-d3e08dbd5e9f",
   "metadata": {},
   "outputs": [
    {
     "name": "stdout",
     "output_type": "stream",
     "text": [
      "Current date and time: 2025-09-17 11:46:13\n"
     ]
    },
    {
     "name": "stdin",
     "output_type": "stream",
     "text": [
      "Enter year (e.g., 2024):  2020\n",
      "Enter month (1-12):  4\n"
     ]
    },
    {
     "name": "stdout",
     "output_type": "stream",
     "text": [
      "\n",
      "Calendar for April 2020:\n",
      "\n",
      "     April 2020\n",
      "Mo Tu We Th Fr Sa Su\n",
      "       1  2  3  4  5\n",
      " 6  7  8  9 10 11 12\n",
      "13 14 15 16 17 18 19\n",
      "20 21 22 23 24 25 26\n",
      "27 28 29 30\n",
      "\n"
     ]
    }
   ],
   "source": [
    "#EP-9\n",
    "\n",
    "import datetime\n",
    "import calendar\n",
    "# Display current date and time\n",
    "now = datetime.datetime.now()\n",
    "print(\"Current date and time:\", now.strftime(\"%Y-%m-%d %H:%M:%S\"))\n",
    "# Input month and year\n",
    "year = int(input(\"Enter year (e.g., 2024): \"))\n",
    "month = int(input(\"Enter month (1-12): \"))\n",
    "# Validate month\n",
    "if 1 <= month <= 12:\n",
    "  print(f\"\\nCalendar for {calendar.month_name[month]} {year}:\\n\")\n",
    "  print(calendar.month(year, month))\n",
    "else:\n",
    "  print(\"Invalid month! Please enter a value between 1 and 12.\")"
   ]
  },
  {
   "cell_type": "code",
   "execution_count": null,
   "id": "812d578f-bc1e-424e-9e2a-5cd7fce644e6",
   "metadata": {},
   "outputs": [],
   "source": []
  }
 ],
 "metadata": {
  "kernelspec": {
   "display_name": "Python 3 (ipykernel)",
   "language": "python",
   "name": "python3"
  },
  "language_info": {
   "codemirror_mode": {
    "name": "ipython",
    "version": 3
   },
   "file_extension": ".py",
   "mimetype": "text/x-python",
   "name": "python",
   "nbconvert_exporter": "python",
   "pygments_lexer": "ipython3",
   "version": "3.13.5"
  }
 },
 "nbformat": 4,
 "nbformat_minor": 5
}
